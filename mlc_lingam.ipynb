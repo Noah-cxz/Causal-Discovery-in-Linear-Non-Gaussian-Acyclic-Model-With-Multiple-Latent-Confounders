{
 "cells": [
  {
   "cell_type": "markdown",
   "source": [
    "# Setup"
   ],
   "metadata": {
    "collapsed": false,
    "pycharm": {
     "name": "#%% md\n"
    }
   }
  },
  {
   "cell_type": "code",
   "execution_count": 1,
   "outputs": [],
   "source": [
    "import numpy as np\n",
    "import pandas as pd\n",
    "from algorithm.lingam import MLCLiNGAM\n",
    "from utils.data_processing import show_nx_graph"
   ],
   "metadata": {
    "collapsed": false,
    "pycharm": {
     "name": "#%%\n"
    }
   }
  },
  {
   "cell_type": "markdown",
   "source": [
    "# Test Example"
   ],
   "metadata": {
    "collapsed": false,
    "pycharm": {
     "name": "#%% md\n"
    }
   }
  },
  {
   "cell_type": "markdown",
   "source": [
    "## 1. Introduction: Diagram of Ground-Truth and Algorithm Process"
   ],
   "metadata": {
    "collapsed": false,
    "pycharm": {
     "name": "#%% md\n"
    }
   }
  },
  {
   "cell_type": "markdown",
   "source": [
    "The **causal graph of simulated dataset** is shown as follow.\n",
    "\n",
    "We illustrate that MLCLiNGAM works through a **3-stage hybrid learning method** and the estimated causal graph shown in **cell 4.2** supports the theoretical illustration.\n",
    "\n",
    "For latent confounder detection, MLCLiNGAM shows that there exist **a least one** latent confounder $u$ affects $\\{x_0, x_1, x_3\\}$ and the same as $\\{x_1, x_2, x_3\\}$ with the help of **maximal cliques detection**."
   ],
   "metadata": {
    "collapsed": false,
    "pycharm": {
     "name": "#%% md\n"
    }
   }
  },
  {
   "cell_type": "markdown",
   "source": [
    "![image](image/mlc_lingam_example.png)"
   ],
   "metadata": {
    "collapsed": false,
    "pycharm": {
     "name": "#%% md\n"
    }
   }
  },
  {
   "cell_type": "markdown",
   "source": [
    "## 2. Data Simulation"
   ],
   "metadata": {
    "collapsed": false,
    "pycharm": {
     "name": "#%% md\n"
    }
   }
  },
  {
   "cell_type": "markdown",
   "source": [
    "###  2.1 Data without Latent Confounder"
   ],
   "metadata": {
    "collapsed": false,
    "pycharm": {
     "name": "#%% md\n"
    }
   }
  },
  {
   "cell_type": "code",
   "execution_count": 2,
   "outputs": [],
   "source": [
    "size = 1000\n",
    "np.random.seed(42)\n",
    "\n",
    "x0 = np.random.uniform(size=size)\n",
    "x1 = 0.5 * x0 + np.random.uniform(size=size)\n",
    "x2 = 0.5 * x1 + np.random.uniform(size=size)\n",
    "x3 = 0.5 * x2 + np.random.uniform(size=size)\n",
    "X = np.array([x0, x1, x2, x3]).T"
   ],
   "metadata": {
    "collapsed": false,
    "pycharm": {
     "name": "#%%\n"
    }
   }
  },
  {
   "cell_type": "markdown",
   "source": [
    "### 2.2 Data with Latent Confounder"
   ],
   "metadata": {
    "collapsed": false,
    "pycharm": {
     "name": "#%% md\n"
    }
   }
  },
  {
   "cell_type": "markdown",
   "source": [
    "Here, we simulate a simple ground truth which presented in ParceLiNGAM(T Tashiro, S Shimizu, A Hyvärinen, 2014).\n",
    "\n",
    "We show that **once exogenous variables or leaf variables are affected by latent confounders**, traditional algorithm fails to identify corresponding variables and thus is forced to perform a massive search.\n",
    "\n",
    "\n",
    "Result given by MLCLiNGAM for the simulate dataset is shown in the cell 4."
   ],
   "metadata": {
    "collapsed": false,
    "pycharm": {
     "name": "#%% md\n"
    }
   }
  },
  {
   "cell_type": "code",
   "execution_count": 2,
   "outputs": [],
   "source": [
    "size = 5000\n",
    "np.random.seed(1000)\n",
    "u1 = np.random.uniform(size=size)"
   ],
   "metadata": {
    "collapsed": false,
    "pycharm": {
     "name": "#%%\n"
    }
   }
  },
  {
   "cell_type": "code",
   "execution_count": 3,
   "outputs": [],
   "source": [
    "np.random.seed(42)\n",
    "\n",
    "x0 = np.random.uniform(size=size)\n",
    "x0 += 1.25 * u1\n",
    "x1 = 0.5 * x0 + np.random.uniform(size=size)\n",
    "x1 += 1.25 * u1\n",
    "x2 = 0.5 * x1 + np.random.uniform(size=size)\n",
    "x3 = 0.5 * x2 + np.random.uniform(size=size)\n",
    "x3 += 0.75 * u1\n",
    "X_mlc = np.array([x0, x1, x2, x3]).T\n",
    "![image](image/test.png)"
   ],
   "metadata": {
    "collapsed": false,
    "pycharm": {
     "name": "#%%\n"
    }
   }
  },
  {
   "cell_type": "markdown",
   "source": [
    "## 3. Perform MLCLiNGAM"
   ],
   "metadata": {
    "collapsed": false,
    "pycharm": {
     "name": "#%% md\n"
    }
   }
  },
  {
   "cell_type": "markdown",
   "source": [
    "### 3.1 Fit MLCLiNGAM for Data 2.1"
   ],
   "metadata": {
    "collapsed": false,
    "pycharm": {
     "name": "#%% md\n"
    }
   }
  },
  {
   "cell_type": "code",
   "execution_count": 3,
   "outputs": [
    {
     "data": {
      "text/plain": "<algorithm.lingam.mlc_lingam.MLCLiNGAM at 0x20c5a276e50>"
     },
     "execution_count": 3,
     "metadata": {},
     "output_type": "execute_result"
    }
   ],
   "source": [
    "mlc_lingam_1 = MLCLiNGAM()\n",
    "mlc_lingam_1.fit(X)"
   ],
   "metadata": {
    "collapsed": false,
    "pycharm": {
     "name": "#%%\n"
    }
   }
  },
  {
   "cell_type": "markdown",
   "source": [
    "### 3.2 Fit MLCLiNGAM for Data 2.2"
   ],
   "metadata": {
    "collapsed": false,
    "pycharm": {
     "name": "#%% md\n"
    }
   }
  },
  {
   "cell_type": "markdown",
   "source": [
    "we emphasis that in order to show the statistical correctness, it is necessary to training MLCLiNGAM model with samples of large amount.\n",
    "\n",
    "**5000 sample size** is require to training and it may takes a while for simulated data with latent confounder, nonetheless, it is quiet faster and more accurate than ParceLiNGAM(T Tashiro, S Shimizu, A Hyvärinen, 2014) in the same case."
   ],
   "metadata": {
    "collapsed": false,
    "pycharm": {
     "name": "#%% md\n"
    }
   }
  },
  {
   "cell_type": "code",
   "execution_count": 4,
   "outputs": [
    {
     "data": {
      "text/plain": "<algorithm.lingam.mlc_lingam_fix3.MLCLiNGAM at 0x2c6833c8ca0>"
     },
     "execution_count": 4,
     "metadata": {},
     "output_type": "execute_result"
    }
   ],
   "source": [
    "mlc_lingam_2 = MLCLiNGAM()\n",
    "mlc_lingam_2.fit(X_mlc)"
   ],
   "metadata": {
    "collapsed": false,
    "pycharm": {
     "name": "#%%\n"
    }
   }
  },
  {
   "cell_type": "code",
   "execution_count": 16,
   "outputs": [
    {
     "name": "stdout",
     "output_type": "stream",
     "text": [
      "Computational Time of MLCLiNGAM\n",
      "-------------------------------\n",
      "Stage-1(PC):                         0.022\n",
      "Stage-2(up-bottom and bottom-up):    160.145\n",
      "Stage-3(learning in maximal cliques) 286.197\n"
     ]
    }
   ],
   "source": [
    "print(\"Computational Time of MLCLiNGAM\")\n",
    "print(\"-------------------------------\")\n",
    "print(\"Stage-1(PC):                        \", round(mlc_lingam_2._stage1_time, 3))\n",
    "print(\"Stage-2(up-bottom and bottom-up):   \", round(mlc_lingam_2._stage2_time, 3))\n",
    "print(\"Stage-3(learning in maximal cliques)\", round(mlc_lingam_2._stage3_time, 3))"
   ],
   "metadata": {
    "collapsed": false,
    "pycharm": {
     "name": "#%%\n"
    }
   }
  },
  {
   "cell_type": "markdown",
   "source": [
    "## 4. Show Result"
   ],
   "metadata": {
    "collapsed": false,
    "pycharm": {
     "name": "#%% md\n"
    }
   }
  },
  {
   "cell_type": "markdown",
   "source": [
    "### 4.1 Result for Data 2.1 (without latent confounder)"
   ],
   "metadata": {
    "collapsed": false,
    "pycharm": {
     "name": "#%% md\n"
    }
   }
  },
  {
   "cell_type": "code",
   "execution_count": 4,
   "outputs": [
    {
     "data": {
      "text/plain": "<Figure size 600x324 with 1 Axes>",
      "image/png": "[encoded data removed]"
     },
     "metadata": {},
     "output_type": "display_data"
    }
   ],
   "source": [
    "show_nx_graph(mlc_lingam_1.adjacency_matrix_, direct=True)"
   ],
   "metadata": {
    "collapsed": false,
    "pycharm": {
     "name": "#%%\n"
    }
   }
  },
  {
   "cell_type": "markdown",
   "source": [
    "### 4.2 Result for Data 2.2 (with latent confounder)"
   ],
   "metadata": {
    "collapsed": false,
    "pycharm": {
     "name": "#%% md\n"
    }
   }
  },
  {
   "cell_type": "markdown",
   "source": [
    "Skeleton learned from stage1 (stable-PC)."
   ],
   "metadata": {
    "collapsed": false,
    "pycharm": {
     "name": "#%% md\n"
    }
   }
  },
  {
   "cell_type": "code",
   "execution_count": 7,
   "outputs": [
    {
     "data": {
      "text/plain": "<Figure size 600x324 with 1 Axes>",
      "image/png": "[encoded data removed]"
     },
     "metadata": {},
     "output_type": "display_data"
    }
   ],
   "source": [
    "show_nx_graph(mlc_lingam_2.skeleton_, direct=False)"
   ],
   "metadata": {
    "collapsed": false,
    "pycharm": {
     "name": "#%%\n"
    }
   }
  },
  {
   "cell_type": "markdown",
   "source": [
    "Final result learning by MLCLiNGAM."
   ],
   "metadata": {
    "collapsed": false,
    "pycharm": {
     "name": "#%% md\n"
    }
   }
  },
  {
   "cell_type": "code",
   "execution_count": 5,
   "outputs": [
    {
     "data": {
      "text/plain": "<Figure size 600x324 with 1 Axes>",
      "image/png": "[encoded data removed]"
     },
     "metadata": {},
     "output_type": "display_data"
    }
   ],
   "source": [
    "show_nx_graph(mlc_lingam_2.adjacency_matrix_, direct=True)"
   ],
   "metadata": {
    "collapsed": false,
    "pycharm": {
     "name": "#%%\n"
    }
   }
  },
  {
   "cell_type": "markdown",
   "source": [
    "Latent confounder detection."
   ],
   "metadata": {
    "collapsed": false,
    "pycharm": {
     "name": "#%% md\n"
    }
   }
  },
  {
   "cell_type": "code",
   "execution_count": 6,
   "outputs": [
    {
     "data": {
      "text/plain": "[[1, 3, 0], [1, 3, 2]]"
     },
     "execution_count": 6,
     "metadata": {},
     "output_type": "execute_result"
    }
   ],
   "source": [
    "mlc_lingam_2.cliques_"
   ],
   "metadata": {
    "collapsed": false,
    "pycharm": {
     "name": "#%%\n"
    }
   }
  },
  {
   "cell_type": "code",
   "execution_count": 8,
   "outputs": [
    {
     "data": {
      "text/plain": "{0: set(), 1: set(), 2: {1}, 3: {2}}"
     },
     "execution_count": 8,
     "metadata": {},
     "output_type": "execute_result"
    }
   ],
   "source": [
    "mlc_lingam_2.parents_set_"
   ],
   "metadata": {
    "collapsed": false,
    "pycharm": {
     "name": "#%%\n"
    }
   }
  },
  {
   "cell_type": "markdown",
   "source": [
    "## 5. Parameter for Algorithm Test "
   ],
   "metadata": {
    "collapsed": false,
    "pycharm": {
     "name": "#%% md\n"
    }
   }
  },
  {
   "cell_type": "code",
   "execution_count": null,
   "outputs": [],
   "source": [
    "skeleton = np.array([\n",
    "    [0, 1, 0, 1],\n",
    "    [1, 0, 1, 1],\n",
    "    [0, 1, 0, 1],\n",
    "    [1, 1, 1, 0],\n",
    "])\n",
    "adjacency_matrix = np.array([\n",
    "    [0, 1, 0, 1],\n",
    "    [1, 0, 1, 1],\n",
    "    [0, 1, 0, 1],\n",
    "    [1, 1, 1, 0],\n",
    "])\n",
    "\n",
    "parents_set = {}\n",
    "for i in range(4):\n",
    "    parents_set[i] = set()\n",
    "parents_set"
   ],
   "metadata": {
    "collapsed": false,
    "pycharm": {
     "name": "#%%\n"
    }
   }
  }
 ],
 "metadata": {
  "kernelspec": {
   "display_name": "Python 3",
   "language": "python",
   "name": "python3"
  },
  "language_info": {
   "codemirror_mode": {
    "name": "ipython",
    "version": 2
   },
   "file_extension": ".py",
   "mimetype": "text/x-python",
   "name": "python",
   "nbconvert_exporter": "python",
   "pygments_lexer": "ipython2",
   "version": "2.7.6"
  }
 },
 "nbformat": 4,
 "nbformat_minor": 0
}